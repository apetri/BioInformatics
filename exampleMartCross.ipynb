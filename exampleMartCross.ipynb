{
 "cells": [
  {
   "cell_type": "markdown",
   "metadata": {},
   "source": [
    "# Short story"
   ]
  },
  {
   "cell_type": "markdown",
   "metadata": {},
   "source": [
    "Downlowad the code [here](https://github.com/apetri/easyGene), and install the dependencies. You will need to run the script named _martcross.py_. You do it like this"
   ]
  },
  {
   "cell_type": "markdown",
   "metadata": {},
   "source": [
    "    python martCross.py mart.ini"
   ]
  },
  {
   "cell_type": "markdown",
   "metadata": {},
   "source": [
    "Where the _mart.ini_ configuration file looks like this"
   ]
  },
  {
   "cell_type": "code",
   "execution_count": 2,
   "metadata": {
    "collapsed": false
   },
   "outputs": [
    {
     "name": "stdout",
     "output_type": "stream",
     "text": [
      "[PeakMart]\r\n",
      "\r\n",
      "peak_file = data/200_bp_summits_allchr.txt\r\n",
      "mart_file = data/mart_export.xls\r\n",
      "pampl = 400\r\n",
      "bp_tolerance = 2000\r\n",
      "output_file = data/output_test.xls"
     ]
    }
   ],
   "source": [
    "cat mart.ini"
   ]
  },
  {
   "cell_type": "markdown",
   "metadata": {},
   "source": [
    "This produces the following output:"
   ]
  },
  {
   "cell_type": "raw",
   "metadata": {},
   "source": [
    "[+] Reading options from: mart.ini\n",
    "[+] Reading bp peaks from: data/200_bp_summits_allchr.txt\n",
    "[+] Reading mart regions from: data/mart_export.xls\n",
    "[+] Setting bp interval to: 400\n",
    "[+] Finding cross regions in data, with tolerance: 2000 bp\n",
    "[+] Writing result to: data/output_test.xls"
   ]
  },
  {
   "cell_type": "markdown",
   "metadata": {},
   "source": [
    "# Long story"
   ]
  },
  {
   "cell_type": "markdown",
   "metadata": {},
   "source": [
    "You basically have a mart region file in excel format, and a peak location file in text format. You can read them in a pandas DataFrame using the _PeakMartCross_ class"
   ]
  },
  {
   "cell_type": "code",
   "execution_count": 1,
   "metadata": {
    "collapsed": false
   },
   "outputs": [
    {
     "name": "stderr",
     "output_type": "stream",
     "text": [
      "/usr/local/lib/python2.7/site-packages/matplotlib/__init__.py:872: UserWarning: axes.color_cycle is deprecated and replaced with axes.prop_cycle; please use the latter.\n",
      "  warnings.warn(self.msg_depr % (key, alt_key))\n"
     ]
    }
   ],
   "source": [
    "import martCross\n",
    "data = martCross.PeakMartCross.from_files(\"data/200_bp_summits_allchr.txt\",\"data/mart_export.xls\")"
   ]
  },
  {
   "cell_type": "markdown",
   "metadata": {},
   "source": [
    "### First 5 mart file rows"
   ]
  },
  {
   "cell_type": "code",
   "execution_count": 2,
   "metadata": {
    "collapsed": false
   },
   "outputs": [
    {
     "data": {
      "text/html": [
       "<div>\n",
       "<table border=\"1\" class=\"dataframe\">\n",
       "  <thead>\n",
       "    <tr style=\"text-align: right;\">\n",
       "      <th></th>\n",
       "      <th>project</th>\n",
       "      <th>chromosome</th>\n",
       "      <th>gstart</th>\n",
       "      <th>gend</th>\n",
       "      <th>gid</th>\n",
       "    </tr>\n",
       "  </thead>\n",
       "  <tbody>\n",
       "    <tr>\n",
       "      <th>0</th>\n",
       "      <td>caenorhabditis_elegans_prjna13758</td>\n",
       "      <td>IV</td>\n",
       "      <td>5430293</td>\n",
       "      <td>5430313</td>\n",
       "      <td>0</td>\n",
       "    </tr>\n",
       "    <tr>\n",
       "      <th>1</th>\n",
       "      <td>caenorhabditis_elegans_prjna13758</td>\n",
       "      <td>IV</td>\n",
       "      <td>5147056</td>\n",
       "      <td>5147076</td>\n",
       "      <td>1</td>\n",
       "    </tr>\n",
       "    <tr>\n",
       "      <th>2</th>\n",
       "      <td>caenorhabditis_elegans_prjna13758</td>\n",
       "      <td>IV</td>\n",
       "      <td>5422272</td>\n",
       "      <td>5422292</td>\n",
       "      <td>2</td>\n",
       "    </tr>\n",
       "    <tr>\n",
       "      <th>3</th>\n",
       "      <td>caenorhabditis_elegans_prjna13758</td>\n",
       "      <td>I</td>\n",
       "      <td>5540544</td>\n",
       "      <td>5540564</td>\n",
       "      <td>0</td>\n",
       "    </tr>\n",
       "    <tr>\n",
       "      <th>4</th>\n",
       "      <td>caenorhabditis_elegans_prjna13758</td>\n",
       "      <td>IV</td>\n",
       "      <td>5428772</td>\n",
       "      <td>5428792</td>\n",
       "      <td>3</td>\n",
       "    </tr>\n",
       "  </tbody>\n",
       "</table>\n",
       "</div>"
      ],
      "text/plain": [
       "                             project chromosome   gstart     gend  gid\n",
       "0  caenorhabditis_elegans_prjna13758         IV  5430293  5430313    0\n",
       "1  caenorhabditis_elegans_prjna13758         IV  5147056  5147076    1\n",
       "2  caenorhabditis_elegans_prjna13758         IV  5422272  5422292    2\n",
       "3  caenorhabditis_elegans_prjna13758          I  5540544  5540564    0\n",
       "4  caenorhabditis_elegans_prjna13758         IV  5428772  5428792    3"
      ]
     },
     "execution_count": 2,
     "metadata": {},
     "output_type": "execute_result"
    }
   ],
   "source": [
    "data.mart.head(5)"
   ]
  },
  {
   "cell_type": "markdown",
   "metadata": {},
   "source": [
    "### First 2 peak file rows"
   ]
  },
  {
   "cell_type": "code",
   "execution_count": 3,
   "metadata": {
    "collapsed": false
   },
   "outputs": [
    {
     "data": {
      "text/html": [
       "<div>\n",
       "<table border=\"1\" class=\"dataframe\">\n",
       "  <thead>\n",
       "    <tr style=\"text-align: right;\">\n",
       "      <th></th>\n",
       "      <th>chromosome</th>\n",
       "      <th>pstart</th>\n",
       "      <th>pend</th>\n",
       "      <th>pmid</th>\n",
       "      <th>pampl</th>\n",
       "      <th>pid</th>\n",
       "    </tr>\n",
       "  </thead>\n",
       "  <tbody>\n",
       "    <tr>\n",
       "      <th>0</th>\n",
       "      <td>X</td>\n",
       "      <td>5084087</td>\n",
       "      <td>5084487</td>\n",
       "      <td>5084287</td>\n",
       "      <td>400</td>\n",
       "      <td>0</td>\n",
       "    </tr>\n",
       "    <tr>\n",
       "      <th>1</th>\n",
       "      <td>IV</td>\n",
       "      <td>5015289</td>\n",
       "      <td>5015689</td>\n",
       "      <td>5015489</td>\n",
       "      <td>400</td>\n",
       "      <td>0</td>\n",
       "    </tr>\n",
       "  </tbody>\n",
       "</table>\n",
       "</div>"
      ],
      "text/plain": [
       "  chromosome   pstart     pend     pmid  pampl  pid\n",
       "0          X  5084087  5084487  5084287    400    0\n",
       "1         IV  5015289  5015689  5015489    400    0"
      ]
     },
     "execution_count": 3,
     "metadata": {},
     "output_type": "execute_result"
    }
   ],
   "source": [
    "data.peaks.head(2)"
   ]
  },
  {
   "cell_type": "markdown",
   "metadata": {
    "collapsed": true
   },
   "source": [
    "### Set amplitude of peaks to 200 bp"
   ]
  },
  {
   "cell_type": "code",
   "execution_count": 4,
   "metadata": {
    "collapsed": true
   },
   "outputs": [],
   "source": [
    "data.setPampl(200)"
   ]
  },
  {
   "cell_type": "markdown",
   "metadata": {},
   "source": [
    "### Cross the peak and mart data sets looking for pairs less than 2000 bp apart"
   ]
  },
  {
   "cell_type": "code",
   "execution_count": 5,
   "metadata": {
    "collapsed": true
   },
   "outputs": [],
   "source": [
    "cross = data.pkfind(bp_tolerance=2000)"
   ]
  },
  {
   "cell_type": "markdown",
   "metadata": {},
   "source": [
    "### First 2 lines of the crossed dataset"
   ]
  },
  {
   "cell_type": "code",
   "execution_count": 6,
   "metadata": {
    "collapsed": false
   },
   "outputs": [
    {
     "data": {
      "text/html": [
       "<div>\n",
       "<table border=\"1\" class=\"dataframe\">\n",
       "  <thead>\n",
       "    <tr style=\"text-align: right;\">\n",
       "      <th></th>\n",
       "      <th>project</th>\n",
       "      <th>chromosome</th>\n",
       "      <th>pstart</th>\n",
       "      <th>pend</th>\n",
       "      <th>pampl</th>\n",
       "      <th>gstart</th>\n",
       "      <th>gend</th>\n",
       "      <th>distance</th>\n",
       "      <th>gid</th>\n",
       "      <th>pid</th>\n",
       "    </tr>\n",
       "  </thead>\n",
       "  <tbody>\n",
       "    <tr>\n",
       "      <th>0</th>\n",
       "      <td>caenorhabditis_elegans_prjna13758</td>\n",
       "      <td>I</td>\n",
       "      <td>1807960</td>\n",
       "      <td>1808160</td>\n",
       "      <td>200</td>\n",
       "      <td>1808091</td>\n",
       "      <td>1811835</td>\n",
       "      <td>69</td>\n",
       "      <td>21</td>\n",
       "      <td>132</td>\n",
       "    </tr>\n",
       "    <tr>\n",
       "      <th>1</th>\n",
       "      <td>caenorhabditis_elegans_prjna13758</td>\n",
       "      <td>I</td>\n",
       "      <td>6435828</td>\n",
       "      <td>6436028</td>\n",
       "      <td>200</td>\n",
       "      <td>6436058</td>\n",
       "      <td>6441192</td>\n",
       "      <td>30</td>\n",
       "      <td>23</td>\n",
       "      <td>234</td>\n",
       "    </tr>\n",
       "  </tbody>\n",
       "</table>\n",
       "</div>"
      ],
      "text/plain": [
       "                             project chromosome   pstart     pend  pampl  \\\n",
       "0  caenorhabditis_elegans_prjna13758          I  1807960  1808160    200   \n",
       "1  caenorhabditis_elegans_prjna13758          I  6435828  6436028    200   \n",
       "\n",
       "    gstart     gend  distance  gid  pid  \n",
       "0  1808091  1811835        69   21  132  \n",
       "1  6436058  6441192        30   23  234  "
      ]
     },
     "execution_count": 6,
     "metadata": {},
     "output_type": "execute_result"
    }
   ],
   "source": [
    "cross.head(2)"
   ]
  },
  {
   "cell_type": "markdown",
   "metadata": {},
   "source": [
    "### Save in excel format"
   ]
  },
  {
   "cell_type": "code",
   "execution_count": 7,
   "metadata": {
    "collapsed": true
   },
   "outputs": [],
   "source": [
    "cross.to_excel(\"data/test_output.xls\")"
   ]
  },
  {
   "cell_type": "code",
   "execution_count": null,
   "metadata": {
    "collapsed": true
   },
   "outputs": [],
   "source": []
  }
 ],
 "metadata": {
  "kernelspec": {
   "display_name": "Python 2",
   "language": "python",
   "name": "python2"
  },
  "language_info": {
   "codemirror_mode": {
    "name": "ipython",
    "version": 2
   },
   "file_extension": ".py",
   "mimetype": "text/x-python",
   "name": "python",
   "nbconvert_exporter": "python",
   "pygments_lexer": "ipython2",
   "version": "2.7.13"
  }
 },
 "nbformat": 4,
 "nbformat_minor": 2
}
