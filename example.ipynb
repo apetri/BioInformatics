{
 "cells": [
  {
   "cell_type": "markdown",
   "metadata": {},
   "source": [
    "### Source code available [here](https://github.com/apetri/easyVCF)"
   ]
  },
  {
   "cell_type": "markdown",
   "metadata": {},
   "source": [
    "### Example usage"
   ]
  },
  {
   "cell_type": "code",
   "execution_count": 1,
   "metadata": {
    "collapsed": false
   },
   "outputs": [
    {
     "name": "stderr",
     "output_type": "stream",
     "text": [
      "/usr/local/lib/python2.7/site-packages/matplotlib/__init__.py:872: UserWarning: axes.color_cycle is deprecated and replaced with axes.prop_cycle; please use the latter.\n",
      "  warnings.warn(self.msg_depr % (key, alt_key))\n"
     ]
    }
   ],
   "source": [
    "import easyVCF"
   ]
  },
  {
   "cell_type": "code",
   "execution_count": 10,
   "metadata": {
    "collapsed": false
   },
   "outputs": [
    {
     "name": "stdout",
     "output_type": "stream",
     "text": [
      "##fileformat=VCFv4.0\n",
      "##fileDate=20090805\n",
      "##source=myImputationProgramV3.1\n",
      "##reference=1000GenomesPilot-NCBI36\n",
      "##phasing=partial\n",
      "##INFO=<ID=NS,Number=1,Type=Integer,Description=\"Number of Samples With Data\">\n",
      "##INFO=<ID=DP,Number=1,Type=Integer,Description=\"Total Depth\">\n",
      "##INFO=<ID=AF,Number=.,Type=Float,Description=\"Allele Frequency\">\n",
      "##INFO=<ID=AA,Number=1,Type=String,Description=\"Ancestral Allele\">\n",
      "##INFO=<ID=DB,Number=0,Type=Flag,Description=\"dbSNP membership, build 129\">\n",
      "##INFO=<ID=H2,Number=0,Type=Flag,Description=\"HapMap2 membership\">\n",
      "##FILTER=<ID=q10,Description=\"Quality below 10\">\n",
      "##FILTER=<ID=s50,Description=\"Less than 50% of samples have data\">\n",
      "##FORMAT=<ID=GT,Number=1,Type=String,Description=\"Genotype\">\n",
      "##FORMAT=<ID=GQ,Number=1,Type=Integer,Description=\"Genotype Quality\">\n",
      "##FORMAT=<ID=DP,Number=1,Type=Integer,Description=\"Read Depth\">\n",
      "##FORMAT=<ID=HQ,Number=2,Type=Integer,Description=\"Haplotype Quality\">\n",
      "#CHROM POS     ID        REF ALT    QUAL FILTER INFO                              FORMAT      NA00001        NA00002        NA00003\n",
      "20     14370   rs6054257 G      A       29   PASS   NS=3;DP=14;AF=0.5;DB;H2           GT:GQ:DP:HQ 0|0:48:1:51,51 1|0:48:8:51,51 1/1:43:5:.,.\n",
      "20     17330   .         T      A       3    q10    NS=3;DP=11;AF=0.017               GT:GQ:DP:HQ 0|0:49:3:58,50 0|1:3:5:65,3   0/0:41:3\n",
      "20     1110696 rs6040355 A      G,T     67   PASS   NS=2;DP=10;AF=0.333,0.667;AA=T;DB GT:GQ:DP:HQ 1|2:21:6:23,27 2|1:2:0:18,2   2/2:35:4\n",
      "20     1230237 .         T      .       47   PASS   NS=3;DP=13;AA=T                   GT:GQ:DP:HQ 0|0:54:7:56,60 0|0:48:4:51,51 0/0:61:2\n",
      "20     1234567 microsat1 GTCT   G,GTACT 50   PASS   NS=3;DP=9;AA=G                    GT:GQ:DP    0/1:35:4       0/2:17:2       1/1:40:3\n"
     ]
    }
   ],
   "source": [
    "#Raw VCF file\n",
    "with open(\"example.vcf\",\"r\") as fp:\n",
    "    print(fp.read())"
   ]
  },
  {
   "cell_type": "code",
   "execution_count": 3,
   "metadata": {
    "collapsed": false
   },
   "outputs": [],
   "source": [
    "#Use easyVCF to read file\n",
    "vcf = easyVCF.VCFData.read(\"example.vcf\")"
   ]
  },
  {
   "cell_type": "code",
   "execution_count": 4,
   "metadata": {
    "collapsed": false
   },
   "outputs": [
    {
     "data": {
      "text/plain": [
       "{'fileDate': '20090805',\n",
       " 'fileformat': 'VCFv4.0',\n",
       " 'phasing': 'partial',\n",
       " 'reference': '1000GenomesPilot-NCBI36',\n",
       " 'source': 'myImputationProgramV3.1'}"
      ]
     },
     "execution_count": 4,
     "metadata": {},
     "output_type": "execute_result"
    }
   ],
   "source": [
    "#Header\n",
    "vcf.header"
   ]
  },
  {
   "cell_type": "code",
   "execution_count": 5,
   "metadata": {
    "collapsed": false
   },
   "outputs": [
    {
     "data": {
      "text/html": [
       "<div>\n",
       "<table border=\"1\" class=\"dataframe\">\n",
       "  <thead>\n",
       "    <tr style=\"text-align: right;\">\n",
       "      <th></th>\n",
       "      <th>Description</th>\n",
       "      <th>Number</th>\n",
       "      <th>Type</th>\n",
       "    </tr>\n",
       "    <tr>\n",
       "      <th>ID</th>\n",
       "      <th></th>\n",
       "      <th></th>\n",
       "      <th></th>\n",
       "    </tr>\n",
       "  </thead>\n",
       "  <tbody>\n",
       "    <tr>\n",
       "      <th>NS</th>\n",
       "      <td>Number of Samples With Data</td>\n",
       "      <td>1</td>\n",
       "      <td>Integer</td>\n",
       "    </tr>\n",
       "    <tr>\n",
       "      <th>DP</th>\n",
       "      <td>Total Depth</td>\n",
       "      <td>1</td>\n",
       "      <td>Integer</td>\n",
       "    </tr>\n",
       "    <tr>\n",
       "      <th>AF</th>\n",
       "      <td>Allele Frequency</td>\n",
       "      <td>.</td>\n",
       "      <td>Float</td>\n",
       "    </tr>\n",
       "    <tr>\n",
       "      <th>AA</th>\n",
       "      <td>Ancestral Allele</td>\n",
       "      <td>1</td>\n",
       "      <td>String</td>\n",
       "    </tr>\n",
       "    <tr>\n",
       "      <th>DB</th>\n",
       "      <td>dbSNP membership, build 129</td>\n",
       "      <td>0</td>\n",
       "      <td>Flag</td>\n",
       "    </tr>\n",
       "    <tr>\n",
       "      <th>H2</th>\n",
       "      <td>HapMap2 membership</td>\n",
       "      <td>0</td>\n",
       "      <td>Flag</td>\n",
       "    </tr>\n",
       "  </tbody>\n",
       "</table>\n",
       "</div>"
      ],
      "text/plain": [
       "                    Description Number     Type\n",
       "ID                                             \n",
       "NS  Number of Samples With Data      1  Integer\n",
       "DP                  Total Depth      1  Integer\n",
       "AF             Allele Frequency      .    Float\n",
       "AA             Ancestral Allele      1   String\n",
       "DB  dbSNP membership, build 129      0     Flag\n",
       "H2           HapMap2 membership      0     Flag"
      ]
     },
     "execution_count": 5,
     "metadata": {},
     "output_type": "execute_result"
    }
   ],
   "source": [
    "#INFO\n",
    "vcf.INFO"
   ]
  },
  {
   "cell_type": "code",
   "execution_count": 6,
   "metadata": {
    "collapsed": false
   },
   "outputs": [
    {
     "data": {
      "text/html": [
       "<div>\n",
       "<table border=\"1\" class=\"dataframe\">\n",
       "  <thead>\n",
       "    <tr style=\"text-align: right;\">\n",
       "      <th></th>\n",
       "      <th>Description</th>\n",
       "      <th>Number</th>\n",
       "      <th>Type</th>\n",
       "    </tr>\n",
       "    <tr>\n",
       "      <th>ID</th>\n",
       "      <th></th>\n",
       "      <th></th>\n",
       "      <th></th>\n",
       "    </tr>\n",
       "  </thead>\n",
       "  <tbody>\n",
       "    <tr>\n",
       "      <th>GT</th>\n",
       "      <td>Genotype</td>\n",
       "      <td>1</td>\n",
       "      <td>String</td>\n",
       "    </tr>\n",
       "    <tr>\n",
       "      <th>GQ</th>\n",
       "      <td>Genotype Quality</td>\n",
       "      <td>1</td>\n",
       "      <td>Integer</td>\n",
       "    </tr>\n",
       "    <tr>\n",
       "      <th>DP</th>\n",
       "      <td>Read Depth</td>\n",
       "      <td>1</td>\n",
       "      <td>Integer</td>\n",
       "    </tr>\n",
       "    <tr>\n",
       "      <th>HQ</th>\n",
       "      <td>Haplotype Quality</td>\n",
       "      <td>2</td>\n",
       "      <td>Integer</td>\n",
       "    </tr>\n",
       "  </tbody>\n",
       "</table>\n",
       "</div>"
      ],
      "text/plain": [
       "          Description Number     Type\n",
       "ID                                   \n",
       "GT           Genotype      1   String\n",
       "GQ   Genotype Quality      1  Integer\n",
       "DP         Read Depth      1  Integer\n",
       "HQ  Haplotype Quality      2  Integer"
      ]
     },
     "execution_count": 6,
     "metadata": {},
     "output_type": "execute_result"
    }
   ],
   "source": [
    "#FORMAT\n",
    "vcf.FORMAT"
   ]
  },
  {
   "cell_type": "code",
   "execution_count": 7,
   "metadata": {
    "collapsed": false
   },
   "outputs": [
    {
     "data": {
      "text/html": [
       "<div>\n",
       "<table border=\"1\" class=\"dataframe\">\n",
       "  <thead>\n",
       "    <tr style=\"text-align: right;\">\n",
       "      <th></th>\n",
       "      <th>Description</th>\n",
       "    </tr>\n",
       "    <tr>\n",
       "      <th>ID</th>\n",
       "      <th></th>\n",
       "    </tr>\n",
       "  </thead>\n",
       "  <tbody>\n",
       "    <tr>\n",
       "      <th>q10</th>\n",
       "      <td>Quality below 10</td>\n",
       "    </tr>\n",
       "    <tr>\n",
       "      <th>s50</th>\n",
       "      <td>Less than 50% of samples have data</td>\n",
       "    </tr>\n",
       "  </tbody>\n",
       "</table>\n",
       "</div>"
      ],
      "text/plain": [
       "                            Description\n",
       "ID                                     \n",
       "q10                    Quality below 10\n",
       "s50  Less than 50% of samples have data"
      ]
     },
     "execution_count": 7,
     "metadata": {},
     "output_type": "execute_result"
    }
   ],
   "source": [
    "#FILTER\n",
    "vcf.FILTER"
   ]
  },
  {
   "cell_type": "code",
   "execution_count": 8,
   "metadata": {
    "collapsed": false
   },
   "outputs": [
    {
     "data": {
      "text/html": [
       "<div>\n",
       "<table border=\"1\" class=\"dataframe\">\n",
       "  <thead>\n",
       "    <tr style=\"text-align: right;\">\n",
       "      <th></th>\n",
       "      <th>CHROM</th>\n",
       "      <th>POS</th>\n",
       "      <th>ID</th>\n",
       "      <th>REF</th>\n",
       "      <th>ALT</th>\n",
       "      <th>QUAL</th>\n",
       "      <th>FILTER</th>\n",
       "      <th>INFO</th>\n",
       "      <th>FORMAT</th>\n",
       "      <th>NA00001</th>\n",
       "      <th>NA00002</th>\n",
       "      <th>NA00003</th>\n",
       "    </tr>\n",
       "  </thead>\n",
       "  <tbody>\n",
       "    <tr>\n",
       "      <th>0</th>\n",
       "      <td>20</td>\n",
       "      <td>14370</td>\n",
       "      <td>rs6054257</td>\n",
       "      <td>G</td>\n",
       "      <td>A</td>\n",
       "      <td>29</td>\n",
       "      <td>PASS</td>\n",
       "      <td>NS=3;DP=14;AF=0.5;DB;H2</td>\n",
       "      <td>GT:GQ:DP:HQ</td>\n",
       "      <td>0|0:48:1:51,51</td>\n",
       "      <td>1|0:48:8:51,51</td>\n",
       "      <td>1/1:43:5:.,.</td>\n",
       "    </tr>\n",
       "    <tr>\n",
       "      <th>1</th>\n",
       "      <td>20</td>\n",
       "      <td>17330</td>\n",
       "      <td>NaN</td>\n",
       "      <td>T</td>\n",
       "      <td>A</td>\n",
       "      <td>3</td>\n",
       "      <td>q10</td>\n",
       "      <td>NS=3;DP=11;AF=0.017</td>\n",
       "      <td>GT:GQ:DP:HQ</td>\n",
       "      <td>0|0:49:3:58,50</td>\n",
       "      <td>0|1:3:5:65,3</td>\n",
       "      <td>0/0:41:3</td>\n",
       "    </tr>\n",
       "    <tr>\n",
       "      <th>2</th>\n",
       "      <td>20</td>\n",
       "      <td>1110696</td>\n",
       "      <td>rs6040355</td>\n",
       "      <td>A</td>\n",
       "      <td>G,T</td>\n",
       "      <td>67</td>\n",
       "      <td>PASS</td>\n",
       "      <td>NS=2;DP=10;AF=0.333,0.667;AA=T;DB</td>\n",
       "      <td>GT:GQ:DP:HQ</td>\n",
       "      <td>1|2:21:6:23,27</td>\n",
       "      <td>2|1:2:0:18,2</td>\n",
       "      <td>2/2:35:4</td>\n",
       "    </tr>\n",
       "    <tr>\n",
       "      <th>3</th>\n",
       "      <td>20</td>\n",
       "      <td>1230237</td>\n",
       "      <td>NaN</td>\n",
       "      <td>T</td>\n",
       "      <td>NaN</td>\n",
       "      <td>47</td>\n",
       "      <td>PASS</td>\n",
       "      <td>NS=3;DP=13;AA=T</td>\n",
       "      <td>GT:GQ:DP:HQ</td>\n",
       "      <td>0|0:54:7:56,60</td>\n",
       "      <td>0|0:48:4:51,51</td>\n",
       "      <td>0/0:61:2</td>\n",
       "    </tr>\n",
       "    <tr>\n",
       "      <th>4</th>\n",
       "      <td>20</td>\n",
       "      <td>1234567</td>\n",
       "      <td>microsat1</td>\n",
       "      <td>GTCT</td>\n",
       "      <td>G,GTACT</td>\n",
       "      <td>50</td>\n",
       "      <td>PASS</td>\n",
       "      <td>NS=3;DP=9;AA=G</td>\n",
       "      <td>GT:GQ:DP</td>\n",
       "      <td>0/1:35:4</td>\n",
       "      <td>0/2:17:2</td>\n",
       "      <td>1/1:40:3</td>\n",
       "    </tr>\n",
       "  </tbody>\n",
       "</table>\n",
       "</div>"
      ],
      "text/plain": [
       "   CHROM      POS         ID   REF      ALT  QUAL FILTER  \\\n",
       "0     20    14370  rs6054257     G        A    29   PASS   \n",
       "1     20    17330        NaN     T        A     3    q10   \n",
       "2     20  1110696  rs6040355     A      G,T    67   PASS   \n",
       "3     20  1230237        NaN     T      NaN    47   PASS   \n",
       "4     20  1234567  microsat1  GTCT  G,GTACT    50   PASS   \n",
       "\n",
       "                                INFO       FORMAT         NA00001  \\\n",
       "0            NS=3;DP=14;AF=0.5;DB;H2  GT:GQ:DP:HQ  0|0:48:1:51,51   \n",
       "1                NS=3;DP=11;AF=0.017  GT:GQ:DP:HQ  0|0:49:3:58,50   \n",
       "2  NS=2;DP=10;AF=0.333,0.667;AA=T;DB  GT:GQ:DP:HQ  1|2:21:6:23,27   \n",
       "3                    NS=3;DP=13;AA=T  GT:GQ:DP:HQ  0|0:54:7:56,60   \n",
       "4                     NS=3;DP=9;AA=G     GT:GQ:DP        0/1:35:4   \n",
       "\n",
       "          NA00002       NA00003  \n",
       "0  1|0:48:8:51,51  1/1:43:5:.,.  \n",
       "1    0|1:3:5:65,3      0/0:41:3  \n",
       "2    2|1:2:0:18,2      2/2:35:4  \n",
       "3  0|0:48:4:51,51      0/0:61:2  \n",
       "4        0/2:17:2      1/1:40:3  "
      ]
     },
     "execution_count": 8,
     "metadata": {},
     "output_type": "execute_result"
    }
   ],
   "source": [
    "#Data contained in the file\n",
    "vcf.data"
   ]
  },
  {
   "cell_type": "code",
   "execution_count": null,
   "metadata": {
    "collapsed": true
   },
   "outputs": [],
   "source": []
  }
 ],
 "metadata": {
  "kernelspec": {
   "display_name": "Python 2",
   "language": "python",
   "name": "python2"
  },
  "language_info": {
   "codemirror_mode": {
    "name": "ipython",
    "version": 2
   },
   "file_extension": ".py",
   "mimetype": "text/x-python",
   "name": "python",
   "nbconvert_exporter": "python",
   "pygments_lexer": "ipython2",
   "version": "2.7.12"
  }
 },
 "nbformat": 4,
 "nbformat_minor": 1
}
